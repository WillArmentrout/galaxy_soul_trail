{
 "cells": [
  {
   "cell_type": "code",
   "execution_count": 13,
   "metadata": {},
   "outputs": [],
   "source": [
    "## Calculate how far someone travelled through the Galaxy, given a birth date and death date\n",
    "\n",
    "from astropy import units as u\n",
    "\n",
    "## Definitions\n",
    "\n",
    "R_gal = 8.4*u.parsec*1000 #kpc\n",
    "v_0 = 220*u.kilometer/u.second #km/s\n",
    "\n",
    "#R_gal.to(u.m)"
   ]
  },
  {
   "cell_type": "code",
   "execution_count": 18,
   "metadata": {},
   "outputs": [],
   "source": [
    "## Take birth date and death dates as input\n",
    "\n",
    "birthDay = 11 ## Write something to take this from a drop down list\n",
    "birthMonth = 9\n",
    "birthYear = 1990\n",
    "#birthTime = 11:09:00\n",
    "\n",
    "deathDay = 24 ## Write something to take this from a drop down list\n",
    "deathMonth = 10\n",
    "deathYear = 2190\n",
    "#deathTime = 12:00:00\n",
    "\n",
    "#dat['decimal_date']=dat.index.year+ (dat.index.dayofyear -1)/365\n",
    "\n",
    "birthDate = 0 ## UPDATE WITH REAL DATES FROM INPUT\n",
    "deathDate = 7 ## UPDATE WITH REAL DATES FROM INPUT\n",
    "\n",
    "travelTime = (deathDate - birthDate)*u.year"
   ]
  },
  {
   "cell_type": "code",
   "execution_count": 27,
   "metadata": {},
   "outputs": [
    {
     "name": "stdout",
     "output_type": "stream",
     "text": [
      "0.00157497673418271 pc\n"
     ]
    }
   ],
   "source": [
    "# Calculate distance object traveled through space during travel time\n",
    "\n",
    "distance = (v_0*travelTime.to(u.second)).to(u.parsec)\n",
    "print(distance)\n",
    "\n",
    "\n",
    "\n",
    "\n",
    "\n"
   ]
  },
  {
   "cell_type": "code",
   "execution_count": 31,
   "metadata": {},
   "outputs": [
    {
     "name": "stdout",
     "output_type": "stream",
     "text": [
      "0.0007126761112366016 pc\n"
     ]
    }
   ],
   "source": [
    "voyagerDist = (147*u.au).to(u.parsec)\n",
    "print(voyagerDist)"
   ]
  },
  {
   "cell_type": "code",
   "execution_count": 32,
   "metadata": {},
   "outputs": [
    {
     "name": "stdout",
     "output_type": "stream",
     "text": [
      "2.2099474212063672\n"
     ]
    }
   ],
   "source": [
    "print(distance/voyagerDist)"
   ]
  },
  {
   "cell_type": "code",
   "execution_count": null,
   "metadata": {},
   "outputs": [],
   "source": []
  }
 ],
 "metadata": {
  "kernelspec": {
   "display_name": "Python 3",
   "language": "python",
   "name": "python3"
  },
  "language_info": {
   "codemirror_mode": {
    "name": "ipython",
    "version": 3
   },
   "file_extension": ".py",
   "mimetype": "text/x-python",
   "name": "python",
   "nbconvert_exporter": "python",
   "pygments_lexer": "ipython3",
   "version": "3.6.3"
  }
 },
 "nbformat": 4,
 "nbformat_minor": 2
}

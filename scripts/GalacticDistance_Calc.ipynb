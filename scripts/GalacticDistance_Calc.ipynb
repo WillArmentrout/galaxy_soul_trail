{
 "cells": [
  {
   "cell_type": "code",
   "execution_count": 153,
   "metadata": {},
   "outputs": [],
   "source": [
    "## Calculate how far someone travelled through the Galaxy, given a birth date and death date\n",
    "\n",
    "from astropy import units as u\n",
    "from datetime import datetime\n",
    "from datetime import date\n",
    "from decimal import Decimal\n",
    "\n",
    "## Definitions\n",
    "\n",
    "R_gal = 8.3*u.parsec*1000 #kpc\n",
    "v_0 = 220*u.kilometer/u.second #km/s\n",
    "\n",
    "voyagerDist = (147*u.au).to(u.parsec)\n",
    "whitneyDist = 0.0017322126044868604\n",
    "\n",
    "#R_gal.to(u.m)"
   ]
  },
  {
   "cell_type": "code",
   "execution_count": 154,
   "metadata": {},
   "outputs": [],
   "source": [
    "## Take birth date and death dates as input\n",
    "(birthDay, birthMonth, birthYear, deathDay, deathMonth, deathYear)=(0,0,0,0,0,0)\n",
    "\n",
    "\n",
    "def travelTime(birthDay = birthDay, birthMonth = birthMonth, birthYear = birthYear, deathDay = datetime.now().day, deathMonth = datetime.now().month, deathYear = datetime.now().year):\n",
    "\n",
    "    birthDate = date(birthYear, birthMonth, birthDay)\n",
    "    start = date(birthDate.year, 1, 1).toordinal()\n",
    "    year_length = date(birthDate.year+1, 1, 1).toordinal() - start\n",
    "    birthDateFrac = birthDate.year + float(birthDate.toordinal() - start) / year_length\n",
    "    \n",
    "    #print(birthDateFrac)\n",
    "    \n",
    "    deathDate = date(deathYear, deathMonth, deathDay)\n",
    "    start = date(deathDate.year, 1, 1).toordinal()\n",
    "    year_length = date(deathDate.year+1, 1, 1).toordinal() - start\n",
    "    deathDateFrac = deathDate.year + float(deathDate.toordinal() - start) / year_length\n",
    "    \n",
    "    #print(deathDateFrac)\n",
    "\n",
    "    \n",
    "    travelTime = (deathDate - birthDate)\n",
    "    print(\"#####################\")\n",
    "    print(\"#### TRAVEL TIME ####\")\n",
    "    print(\"#####################\") \n",
    "    print(travelTime.days/365.24*u.year)\n",
    "\n",
    "    # Calculate distance object traveled through space during travel time\n",
    "    distance = (v_0*travelTime.days*86400*u.second)\n",
    "    print(\"\")\n",
    "    print(\"#####################\")\n",
    "    print(\"## TRAVEL DISTANCE ##\")\n",
    "    print(\"#####################\") \n",
    "    print(distance)\n",
    "    print(distance.to(u.parsec))\n",
    "    print(distance.to(u.AU))\n",
    "    print(distance.to(u.lightyear))\n",
    "    print(str(distance.to(u.lightyear).value*365.24)+\" light days\")\n",
    "    print(str(distance.to(u.lightyear).value/3.8*100)+\"% of the way to Proxima Centauri\")\n",
    "    voyagerFrac = distance.to(u.parsec)/(voyagerDist)\n",
    "    print(str(voyagerFrac) + str(\" times the distance to Voyager.\"))\n",
    "    whitneyFrac = (distance.to(u.parsec)).value/(whitneyDist)\n",
    "    print(str(whitneyFrac) + str(\" times the distance to Whitney Houstons ghost.\"))"
   ]
  },
  {
   "cell_type": "code",
   "execution_count": 156,
   "metadata": {},
   "outputs": [
    {
     "name": "stdout",
     "output_type": "stream",
     "text": [
      "#####################\n",
      "#### TRAVEL TIME ####\n",
      "#####################\n",
      "38.06538166684919 yr\n",
      "\n",
      "#####################\n",
      "## TRAVEL DISTANCE ##\n",
      "#####################\n",
      "264268224000.0 km\n",
      "0.008564349872041544 pc\n",
      "1766.523966975153 AU\n",
      "0.02793317331742039 lyr\n",
      "10.202312222454625 light days\n",
      "0.7350835083531683% of the way to Proxima Centauri\n",
      "12.017169843368388 times the distance to Voyager.\n",
      "4.944167852062589 times the distance to Whitney Houstons ghost.\n"
     ]
    }
   ],
   "source": [
    "## TEST \n",
    "\n",
    "startDay = 30 ## Write something to take this from a drop down list\n",
    "startMonth = 9\n",
    "startYear = 1981\n",
    "#startTime = 11:09:00\n",
    "\n",
    "endDay = 24 ## Write something to take this from a drop down list\n",
    "endMonth = 10\n",
    "endYear = 2190\n",
    "#endTime = 12:00:00\n",
    "\n",
    "#dat['decimal_date']=dat.index.year+ (dat.index.dayofyear -1)/365\n",
    "\n",
    "#travelTime(startDay, startMonth, startYear, endDay, endMonth, endYear)\n",
    "travelTime(startDay, startMonth, startYear)"
   ]
  },
  {
   "cell_type": "code",
   "execution_count": null,
   "metadata": {},
   "outputs": [],
   "source": []
  }
 ],
 "metadata": {
  "kernelspec": {
   "display_name": "Python 3",
   "language": "python",
   "name": "python3"
  },
  "language_info": {
   "codemirror_mode": {
    "name": "ipython",
    "version": 3
   },
   "file_extension": ".py",
   "mimetype": "text/x-python",
   "name": "python",
   "nbconvert_exporter": "python",
   "pygments_lexer": "ipython3",
   "version": "3.6.3"
  }
 },
 "nbformat": 4,
 "nbformat_minor": 2
}

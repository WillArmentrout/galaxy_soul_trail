{
 "cells": [
  {
   "cell_type": "code",
   "execution_count": 111,
   "metadata": {},
   "outputs": [],
   "source": [
    "## Calculate how far someone travelled through the Galaxy, given a birth date and death date\n",
    "\n",
    "from astropy import units as u\n",
    "from datetime import datetime\n",
    "from datetime import date\n",
    "from decimal import Decimal\n",
    "import math\n",
    "from astropy.coordinates import SkyCoord\n",
    "from astropy.coordinates import CylindricalRepresentation\n",
    "\n",
    "\n",
    "## Definitions\n",
    "\n",
    "R_gal = 8.3*u.kpc #kpc\n",
    "v_0 = 220*u.kilometer/u.second #km/s\n",
    "galRotPeriod = (220000000)*u.year\n",
    "\n",
    "voyagerDist = (147*u.au).to(u.parsec)\n",
    "\n",
    "#R_gal.to(u.m)\n"
   ]
  },
  {
   "cell_type": "code",
   "execution_count": 112,
   "metadata": {},
   "outputs": [],
   "source": [
    "## Take birth date and death dates as input\n",
    "(startYear)=(0)\n",
    "\n",
    "def singleEventTime(startYear = startYear):\n",
    "    \n",
    "    galPhi=(((2019 + startYear) % galRotPeriod.value)/galRotPeriod.value*2*math.pi)\n",
    "    \n",
    "    print()\n",
    "    print(\"Start Date = \"+str(startYear))\n",
    "    print(\"Years from Today  = \" + str(2019+startYear))\n",
    "    print(\"Phi (Radians) = \" + str(galPhi))\n",
    "    print()\n",
    "    \n",
    "    c = SkyCoord(CylindricalRepresentation(rho = R_gal, phi = galPhi*u.radian, z=0*u.kpc), frame = 'galactocentric')\n",
    "    print(c.x)\n",
    "    print(c.y)\n",
    "    print(c.z)\n",
    "    print(c)\n",
    "    "
   ]
  },
  {
   "cell_type": "code",
   "execution_count": 113,
   "metadata": {
    "scrolled": true
   },
   "outputs": [
    {
     "name": "stdout",
     "output_type": "stream",
     "text": [
      "\n",
      "Start Date = -110000000\n",
      "Years from Today  = -109997981\n",
      "Phi (Radians) = 3.141650316094953\n",
      "\n",
      "-8.299999986201398 kpc\n",
      "-0.00047859879256208486 kpc\n",
      "0.0 kpc\n",
      "<SkyCoord (Galactocentric: galcen_coord=<ICRS Coordinate: (ra, dec) in deg\n",
      "    (266.4051, -28.936175)>, galcen_distance=8.3 kpc, galcen_v_sun=(11.1, 232.24, 7.25) km / s, z_sun=27.0 pc, roll=0.0 deg): (x, y, z) in kpc\n",
      "    (-8.29999999, -0.0004786, 0.)>\n"
     ]
    }
   ],
   "source": [
    "singleEventTime(startYear=-110000000)"
   ]
  },
  {
   "cell_type": "code",
   "execution_count": null,
   "metadata": {},
   "outputs": [],
   "source": []
  }
 ],
 "metadata": {
  "kernelspec": {
   "display_name": "Python 3",
   "language": "python",
   "name": "python3"
  },
  "language_info": {
   "codemirror_mode": {
    "name": "ipython",
    "version": 3
   },
   "file_extension": ".py",
   "mimetype": "text/x-python",
   "name": "python",
   "nbconvert_exporter": "python",
   "pygments_lexer": "ipython3",
   "version": "3.6.3"
  }
 },
 "nbformat": 4,
 "nbformat_minor": 2
}

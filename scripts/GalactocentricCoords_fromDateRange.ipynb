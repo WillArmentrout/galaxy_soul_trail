{
 "cells": [
  {
   "cell_type": "code",
   "execution_count": 6,
   "metadata": {},
   "outputs": [],
   "source": [
    "## Calculate how far someone travelled through the Galaxy, given a birth date and death date\n",
    "\n",
    "from astropy import units as u\n",
    "from datetime import datetime\n",
    "from datetime import date\n",
    "from decimal import Decimal\n",
    "import math\n",
    "from astropy.coordinates import SkyCoord\n",
    "from astropy.coordinates import CylindricalRepresentation\n",
    "import csv\n",
    "\n",
    "\n",
    "## Definitions\n",
    "\n",
    "R_gal = 8.3*u.kpc #kpc\n",
    "v_0 = 220*u.kilometer/u.second #km/s\n",
    "galRotPeriod = (220000000)*u.year\n",
    "\n",
    "voyagerDist = (147*u.au).to(u.parsec)\n",
    "\n",
    "#R_gal.to(u.m)\n",
    "\n"
   ]
  },
  {
   "cell_type": "code",
   "execution_count": 11,
   "metadata": {},
   "outputs": [],
   "source": [
    "# Open CSV File\n",
    "\n",
    "(sheetIndex, date, eventTitle, eventText, source, color, imageName, phi_0, x_0, y_0, z_0, phi_f, x_f, y_f, z_f)= (0,0,0,0,0,0,0,0,0,0,0,0,0,0,0)\n",
    "\n",
    "eventList = []\n",
    "eventList.append(['sheetIndex','date','eventTitle','eventText','source','color','imageName','phi','x','y','z'])\n",
    "\n",
    "fileIn = '../data/master_range_table.csv'\n",
    "datafile = open(fileIn, 'r')\n",
    "csvFile = []\n",
    "for row in datafile:\n",
    "    csvFile.append(row.strip().split(','))\n",
    "    \n",
    "# Save Galactic Radius Info from CSV to new list\n",
    "index = 1\n",
    "while index < len(csvFile) :\n",
    "    sheetIndex = int(csvFile[index][0])\n",
    "    startDate = float(csvFile[index][4])\n",
    "    endDate = float(csvFile[index][5])\n",
    "    eventTitle = str(csvFile[index][2])\n",
    "    eventText = str(csvFile[index][2])\n",
    "    source = str(csvFile[index][3])\n",
    "    color = str('blue')\n",
    "    imageName = str('..')\n",
    "    \n",
    "    phi_0 =(((2019 + startDate) % galRotPeriod.value)/galRotPeriod.value*2*math.pi)\n",
    "    c_0 = SkyCoord(CylindricalRepresentation(rho = R_gal, phi = phi_0*u.radian, z=0*u.kpc), frame = 'galactocentric')\n",
    "    x_0 = c_0.x.value\n",
    "    y_0 = c_0.y.value\n",
    "    z_0 = c_0.z.value\n",
    "\n",
    "    phi_f =(((2019 + endDate) % galRotPeriod.value)/galRotPeriod.value*2*math.pi)\n",
    "    c_f = SkyCoord(CylindricalRepresentation(rho = R_gal, phi = phi_f*u.radian, z=0*u.kpc), frame = 'galactocentric')\n",
    "    x_f = c_f.x.value\n",
    "    y_f = c_f.y.value\n",
    "    z_f = c_f.z.value\n",
    "    \n",
    "    eventList.append([sheetIndex,startDate,endDate,eventTitle,eventText,source,color,imageName,phi_0,x_0,y_0,z_0,phi_f,x_f,y_f,z_f])\n",
    "    \n",
    "    index += 1\n",
    "    \n",
    "with open(\"../data/timeRanges_Coords.csv\", \"w\") as f:\n",
    "        writer = csv.writer(f)\n",
    "        writer.writerows(eventList)"
   ]
  },
  {
   "cell_type": "code",
   "execution_count": null,
   "metadata": {},
   "outputs": [],
   "source": []
  }
 ],
 "metadata": {
  "kernelspec": {
   "display_name": "Python 3",
   "language": "python",
   "name": "python3"
  },
  "language_info": {
   "codemirror_mode": {
    "name": "ipython",
    "version": 3
   },
   "file_extension": ".py",
   "mimetype": "text/x-python",
   "name": "python",
   "nbconvert_exporter": "python",
   "pygments_lexer": "ipython3",
   "version": "3.6.3"
  }
 },
 "nbformat": 4,
 "nbformat_minor": 2
}

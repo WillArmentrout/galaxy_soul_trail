{
 "cells": [
  {
   "cell_type": "code",
   "execution_count": null,
   "metadata": {},
   "outputs": [],
   "source": [
    "## Calculate how far someone travelled through the Galaxy, given a birth date and death date\n",
    "\n",
    "from astropy import units as u\n",
    "from datetime import datetime\n",
    "from datetime import date\n",
    "from decimal import Decimal\n",
    "import math\n",
    "from astropy.coordinates import SkyCoord\n",
    "from astropy.coordinates import CylindricalRepresentation\n",
    "import csv\n",
    "\n",
    "\n",
    "## Definitions\n",
    "\n",
    "R_gal = 8.3*u.kpc #kpc\n",
    "v_0 = 220*u.kilometer/u.second #km/s\n",
    "galRotPeriod = (220000000)*u.year\n",
    "\n",
    "voyagerDist = (147*u.au).to(u.parsec)\n",
    "\n",
    "#R_gal.to(u.m)"
   ]
  },
  {
   "cell_type": "code",
   "execution_count": null,
   "metadata": {},
   "outputs": [],
   "source": [
    "## Take birth date and death dates as input\n",
    "(startYear)=(0)\n",
    "\n",
    "def singleEventTime(startYear = startYear):\n",
    "    \n",
    "    galPhi=(((2019 + startYear) % galRotPeriod.value)/galRotPeriod.value*2*math.pi)\n",
    "    return galPhi\n",
    "    print()\n",
    "    print(\"Start Date = \"+str(startYear))\n",
    "    print(\"Years from Today  = \" + str(2019+startYear))\n",
    "    print(\"Phi (Radians) = \" + str(galPhi))\n",
    "    print()\n",
    "    \n",
    "    c = SkyCoord(CylindricalRepresentation(rho = R_gal, phi = galPhi*u.radian, z=0*u.kpc), frame = 'galactocentric')\n",
    "    x=print(c.x)\n",
    "    y=print(c.y)\n",
    "    z=print(c.z)"
   ]
  },
  {
   "cell_type": "code",
   "execution_count": null,
   "metadata": {},
   "outputs": [],
   "source": [
    "singleEventTime(startYear=-110000000)"
   ]
  }
 ],
 "metadata": {
  "kernelspec": {
   "display_name": "Python 3",
   "language": "python",
   "name": "python3"
  },
  "language_info": {
   "codemirror_mode": {
    "name": "ipython",
    "version": 3
   },
   "file_extension": ".py",
   "mimetype": "text/x-python",
   "name": "python",
   "nbconvert_exporter": "python",
   "pygments_lexer": "ipython3",
   "version": "3.6.3"
  }
 },
 "nbformat": 4,
 "nbformat_minor": 2
}
